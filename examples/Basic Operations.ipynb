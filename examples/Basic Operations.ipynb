{
 "cells": [
  {
   "cell_type": "markdown",
   "metadata": {},
   "source": [
    "# Basic Operations\n",
    "\n",
    "photonqatのFockbaseについて、基本的な状態やゲートを学びます。\n",
    "\n",
    "GaussianbaseはFockbaseの機能が一部使用不可な点を除き同じ処理ができます。  \n",
    "backendでの処理が異なるためで、代わりにFockbaseより高速で精度が良いです。"
   ]
  },
  {
   "cell_type": "code",
   "execution_count": 1,
   "metadata": {},
   "outputs": [],
   "source": [
    "import photonqat as pq\n",
    "import numpy as np"
   ]
  },
  {
   "cell_type": "markdown",
   "metadata": {},
   "source": [
    "$$\\def\\bra#1{\\mathinner{\\left\\langle{#1}\\right|}} \\def\\ket#1{\\mathinner{\\left|{#1}\\right\\rangle}}\\def\\braket#1#2{\\mathinner{\\left\\langle{#1}\\middle|#2\\right\\rangle}}$$\n",
    "### Photon number state (Fock state)\n",
    "\n",
    "$\\ket{\\psi} = \\alpha_0 \\ket{0} + \\alpha_1 \\ket{1} + \\alpha_2 \\ket{2} + ...$\n",
    "\n",
    "$\\braket{n}{m} = \\delta_{nm}$  \n",
    "$\\sum_{k}|\\alpha_{k}|^2 = 1$\n",
    "\n",
    "```n_photon(mode, photonNum)``` メソッドで任意の$\\ket{n}$状態を用意することができます。\n",
    "初期状態は$\\ket{0}$です。"
   ]
  },
  {
   "cell_type": "code",
   "execution_count": 6,
   "metadata": {},
   "outputs": [
    {
     "data": {
      "image/png": "[encoded data removed]",
      "text/plain": [
       "<Figure size 432x288 with 1 Axes>"
      ]
     },
     "metadata": {
      "needs_background": "light"
     },
     "output_type": "display_data"
    },
    {
     "name": "stdout",
     "output_type": "stream",
     "text": [
      "Photon number state:\n",
      " [0.+0.j 0.+0.j 0.+0.j 0.+0.j 1.+0.j 0.+0.j 0.+0.j 0.+0.j 0.+0.j 0.+0.j\n",
      " 0.+0.j 0.+0.j 0.+0.j 0.+0.j 0.+0.j 0.+0.j]\n"
     ]
    }
   ],
   "source": [
    "F = pq.Fock(1, cutoff = 15) # (qumode数, cutoff 数)\n",
    "F.n_photon(0, 4) # (qumode, photon number state)\n",
    "\n",
    "F.run()\n",
    "\n",
    "(x, p, W) = F.Wigner(0, plot = 'y', xrange = 5.0, prange = 5.0) # plot Wigner function\n",
    "\n",
    "print(\"Photon number state:\\n\", F.state)"
   ]
  },
  {
   "cell_type": "markdown",
   "metadata": {},
   "source": [
    "### Wigner function\n",
    "\n",
    "光の量子状態は光子数状態で表す他に、Wigner関数を用いて$(q, p)$位相平面上の関数としてプロットすることができます。\n",
    "\n",
    "```F.Wigner(mode, plot = 'y' or 'n', xrange = 5.0, prange = 5.0)```\n",
    "\n",
    "光子数状態は密度演算子表記$\\rho = \\sum_{n, n'}C_{n n'}\\ket{n}\\bra{n'}$で書けて、\n",
    "\n",
    "$\\rho = \\ket{n'}\\bra{n}$に対して\n",
    "- $n \\leq n'$の場合\n",
    "$W_{nn'}(q, p) = \\frac{2(-1)^n}{\\pi} \\sqrt{\\frac{2^{n'} n!}{2^{n} n'!}} (q-ip)^{n'-n}e^{-(q^2+p^2)}L_{n}^{n'-n}(2(q^2+p^2))$  \n",
    "- $n' \\leq n$の場合\n",
    "$W_{nn'}(q, p) = \\frac{2(-1)^{n'}}{\\pi} \\sqrt{\\frac{2^{n} n'!}{2^{n'} n!}} (q+ip)^{n-n'}e^{-(q^2+p^2)}L_{n'}^{n-n'}(2(q^2+p^2))$  \n",
    "\n",
    "を各$(q, p)$について計算し、プロットします。  \n",
    "ここでプロットされた関数は、量子状態を位置$q$, または運動量$p$で測定する確率を表します。"
   ]
  },
  {
   "cell_type": "markdown",
   "metadata": {},
   "source": [
    "### Desplacement gate\n",
    "\n",
    "$D(\\alpha) = \\exp(\\alpha \\hat{a}^{\\dagger} - \\alpha^{*}a^{\\dagger})$\n",
    "\n",
    "$(q, p)$位相平面上で状態を$(Re(\\alpha), Im(\\alpha))$だけ平行移動させます。"
   ]
  },
  {
   "cell_type": "code",
   "execution_count": 9,
   "metadata": {},
   "outputs": [
    {
     "data": {
      "image/png": "[encoded data removed]",
      "text/plain": [
       "<Figure size 432x288 with 1 Axes>"
      ]
     },
     "metadata": {
      "needs_background": "light"
     },
     "output_type": "display_data"
    }
   ],
   "source": [
    "alpha = (0 + 1j) # parameter\n",
    "\n",
    "F = pq.Fock(1, cutoff = 15)\n",
    "F.D(0, alpha) # Dgate\n",
    "\n",
    "F.run()\n",
    "\n",
    "(x, p, W) = F.Wigner(0, plot = 'y', xrange = 5.0, prange = 5.0) # plot Wigner function"
   ]
  },
  {
   "cell_type": "markdown",
   "metadata": {},
   "source": [
    "### Squeezing gate \n",
    "\n",
    "$S(\\epsilon) = \\exp{(\\frac{1}{2}\\epsilon^{*}\\hat{a}^{2}} - \\frac{1}{2}\\epsilon\\hat{a}^{\\dagger 2})$  \n",
    "$\\epsilon = re^{2i\\phi}$"
   ]
  },
  {
   "cell_type": "markdown",
   "metadata": {},
   "source": [
    "Normal ordered form  \n",
    "\n",
    "$S(r, \\phi) = (\\cosh{r})^{-1/2} \\exp(-\\frac{\\Gamma}{2}\\hat{a}^{\\dagger 2}) \\exp(-\\ln(\\cosh{r})\\hat{a}^{\\dagger}\\hat{a}) \\exp(\\frac{\\Gamma^{*}}{2}\\hat{a}^{2})$"
   ]
  },
  {
   "cell_type": "markdown",
   "metadata": {},
   "source": [
    "$(q, p)$位相平面上で状態を狭窄化(squeeze)します。  \n",
    "パラメータ$\\phi$はsqueezeの向きを示し、パラメータ$r$が大きいとより強くsqueezeされます。  \n",
    "ある方向にsqueezeされ分布が狭くなると、それと直交する方向は逆に分布が広がります。"
   ]
  },
  {
   "cell_type": "code",
   "execution_count": 11,
   "metadata": {},
   "outputs": [
    {
     "data": {
      "image/png": "[encoded data removed]",
      "text/plain": [
       "<Figure size 432x288 with 1 Axes>"
      ]
     },
     "metadata": {
      "needs_background": "light"
     },
     "output_type": "display_data"
    }
   ],
   "source": [
    "r = .5\n",
    "phi = np.pi/2\n",
    "eps = r * np.exp(2j * phi)\n",
    "\n",
    "F = pq.Fock(1, cutoff = 15)\n",
    "F.S(0, eps) # Sgate\n",
    "\n",
    "F.run()\n",
    "\n",
    "(x, p, W) = F.Wigner(0, plot = 'y', xrange = 5.0, prange = 5.0) # plot Wigner function"
   ]
  },
  {
   "cell_type": "markdown",
   "metadata": {},
   "source": [
    "### Beam splitter\n",
    "\n",
    "Beam splitter hamiltonian: $\\hat{H} = i\\hbar \\theta (\\hat{a}_{1}^{\\dagger}\\hat{a}_{2} -\\hat{a}_{1}  \\hat{a}_{2}^{\\dagger})$\n",
    "\n",
    "$BSgate = \\exp(\\frac{i}{\\hbar}\\hat{H})$"
   ]
  },
  {
   "cell_type": "markdown",
   "metadata": {},
   "source": [
    "ビームスプリッタという素子で2つのモードにある光を混ぜ合わせます。  \n",
    "ビームスプリッタとは入ってきた光の$R$%を反射し、$T$%を透過する($R + T=100$)素子で、一定量の光を透過する鏡のようなものです。"
   ]
  },
  {
   "cell_type": "code",
   "execution_count": 12,
   "metadata": {},
   "outputs": [
    {
     "name": "stdout",
     "output_type": "stream",
     "text": [
      "[2 2 0 2 2 2 2 0 0 2 0 0 2 2 2 0 2 2 2 0 0 0 0 2 0 0 2 2 0 2 2 2 0 0 0 0 2\n",
      " 2 0 0 2 0 2 2 0 0 0 2 2 0]\n",
      "HOM干渉計：2つのSingle photon Modeをビームスプリッタに入力すると出力モードの光子数は必ず1方のモードが2, もう1方が0になる\n"
     ]
    }
   ],
   "source": [
    "mode = 0\n",
    "F = pq.Fock(2, cutoff = 20)\n",
    "F.n_photon(0, 1)\n",
    "F.n_photon(1, 1)\n",
    "F.BS(0, 1, -np.pi/4) # 50:50 ビームスプリッタ\n",
    "F.run()\n",
    "res = F.photonSampling(0, ite = 50) # mode 0 のphoton数を50回サンプリング\n",
    "print(res)\n",
    "print(\"HOM干渉計：2つのSingle photon Modeをビームスプリッタに入力すると出力モードの光子数は必ず1方のモードが2, もう1方が0になる\")"
   ]
  },
  {
   "cell_type": "markdown",
   "metadata": {},
   "source": [
    "### Kerr gate \n",
    "\n",
    "Kerr hamiltoninan:  $H = \\hbar \\frac{\\chi}{2} (\\hat{a}^{\\dagger})^2 \\hat{a}^2$\n",
    "\n",
    "$K = \\exp{(\\frac{i}{\\hbar}H)} = \\exp{(i\\frac{\\chi}{2} (\\hat{a}^{\\dagger})^2 \\hat{a}^2)} = \\exp{(i\\frac{\\chi}{2} \\hat{a}^{\\dagger} \\hat{n} \\hat{a})}$"
   ]
  },
  {
   "cell_type": "markdown",
   "metadata": {},
   "source": [
    "光の媒質の中には屈折率が光の強度に依存するものが存在し、その現象はKerr効果と呼ばれます。  \n",
    "位相平面上では中心からの距離(=強度)によって異なる角度で位相が回転します。\n",
    "\n",
    "Kerr gateは非線形ゲートと呼ばれるものの1種です。  \n",
    "連続量光量子計算においてユニバーサルな計算を行うには少なくとも1種の非線形ゲートが必要と言われています。"
   ]
  },
  {
   "cell_type": "code",
   "execution_count": 17,
   "metadata": {},
   "outputs": [
    {
     "data": {
      "image/png": "[encoded data removed]",
      "text/plain": [
       "<Figure size 432x288 with 1 Axes>"
      ]
     },
     "metadata": {
      "needs_background": "light"
     },
     "output_type": "display_data"
    }
   ],
   "source": [
    "alpha = 2\n",
    "chi = .2\n",
    "\n",
    "F = pq.Fock(1, cutoff = 20)\n",
    "F.D(0, alpha)\n",
    "F.Kerr(0, chi)\n",
    "F.run()\n",
    "\n",
    "x, p, W = F.Wigner(0, method = 'clenshaw') # plot"
   ]
  },
  {
   "cell_type": "code",
   "execution_count": null,
   "metadata": {},
   "outputs": [],
   "source": []
  }
 ],
 "metadata": {
  "kernelspec": {
   "display_name": "Python 3",
   "language": "python",
   "name": "python3"
  },
  "language_info": {
   "codemirror_mode": {
    "name": "ipython",
    "version": 3
   },
   "file_extension": ".py",
   "mimetype": "text/x-python",
   "name": "python",
   "nbconvert_exporter": "python",
   "pygments_lexer": "ipython3",
   "version": "3.6.5"
  }
 },
 "nbformat": 4,
 "nbformat_minor": 4
}
